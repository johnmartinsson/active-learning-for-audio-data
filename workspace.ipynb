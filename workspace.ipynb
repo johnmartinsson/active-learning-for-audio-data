{
 "cells": [
  {
   "cell_type": "code",
   "execution_count": 1,
   "metadata": {},
   "outputs": [],
   "source": [
    "import numpy as np"
   ]
  },
  {
   "cell_type": "code",
   "execution_count": 2,
   "metadata": {},
   "outputs": [
    {
     "ename": "FileNotFoundError",
     "evalue": "[Errno 2] No such file or directory: 'data/baby_cries/embeddings/soundscape_0_birdnet.npy'",
     "output_type": "error",
     "traceback": [
      "\u001b[0;31m---------------------------------------------------------------------------\u001b[0m",
      "\u001b[0;31mFileNotFoundError\u001b[0m                         Traceback (most recent call last)",
      "Cell \u001b[0;32mIn[2], line 1\u001b[0m\n\u001b[0;32m----> 1\u001b[0m embeddings \u001b[38;5;241m=\u001b[39m \u001b[43mnp\u001b[49m\u001b[38;5;241;43m.\u001b[39;49m\u001b[43mload\u001b[49m\u001b[43m(\u001b[49m\u001b[38;5;124;43m'\u001b[39;49m\u001b[38;5;124;43mdata/baby_cries/embeddings/soundscape_0_birdnet.npy\u001b[39;49m\u001b[38;5;124;43m'\u001b[39;49m\u001b[43m)\u001b[49m\n\u001b[1;32m      2\u001b[0m embeddings\u001b[38;5;241m.\u001b[39mshape\n",
      "File \u001b[0;32m~/anaconda3/envs/bioacoustics/lib/python3.11/site-packages/numpy/lib/npyio.py:427\u001b[0m, in \u001b[0;36mload\u001b[0;34m(file, mmap_mode, allow_pickle, fix_imports, encoding, max_header_size)\u001b[0m\n\u001b[1;32m    425\u001b[0m     own_fid \u001b[38;5;241m=\u001b[39m \u001b[38;5;28;01mFalse\u001b[39;00m\n\u001b[1;32m    426\u001b[0m \u001b[38;5;28;01melse\u001b[39;00m:\n\u001b[0;32m--> 427\u001b[0m     fid \u001b[38;5;241m=\u001b[39m stack\u001b[38;5;241m.\u001b[39menter_context(\u001b[38;5;28;43mopen\u001b[39;49m\u001b[43m(\u001b[49m\u001b[43mos_fspath\u001b[49m\u001b[43m(\u001b[49m\u001b[43mfile\u001b[49m\u001b[43m)\u001b[49m\u001b[43m,\u001b[49m\u001b[43m \u001b[49m\u001b[38;5;124;43m\"\u001b[39;49m\u001b[38;5;124;43mrb\u001b[39;49m\u001b[38;5;124;43m\"\u001b[39;49m\u001b[43m)\u001b[49m)\n\u001b[1;32m    428\u001b[0m     own_fid \u001b[38;5;241m=\u001b[39m \u001b[38;5;28;01mTrue\u001b[39;00m\n\u001b[1;32m    430\u001b[0m \u001b[38;5;66;03m# Code to distinguish from NumPy binary files and pickles.\u001b[39;00m\n",
      "\u001b[0;31mFileNotFoundError\u001b[0m: [Errno 2] No such file or directory: 'data/baby_cries/embeddings/soundscape_0_birdnet.npy'"
     ]
    }
   ],
   "source": [
    "embeddings = np.load('data/baby_cries/embeddings/soundscape_0_birdnet.npy')\n",
    "embeddings.shape"
   ]
  },
  {
   "cell_type": "code",
   "execution_count": 9,
   "metadata": {},
   "outputs": [
    {
     "name": "stdout",
     "output_type": "stream",
     "text": [
      "Converted ./data/baby_cries/embeddings/soundscape_7_birdnet.npy to ./data/baby_cries/embeddings/soundscape_7.json\n",
      "Converted ./data/baby_cries/embeddings/soundscape_2_birdnet.npy to ./data/baby_cries/embeddings/soundscape_2.json\n",
      "Converted ./data/baby_cries/embeddings/soundscape_6_birdnet.npy to ./data/baby_cries/embeddings/soundscape_6.json\n",
      "Converted ./data/baby_cries/embeddings/soundscape_0_birdnet.npy to ./data/baby_cries/embeddings/soundscape_0.json\n",
      "Converted ./data/baby_cries/embeddings/soundscape_9_birdnet.npy to ./data/baby_cries/embeddings/soundscape_9.json\n",
      "Converted ./data/baby_cries/embeddings/soundscape_5_birdnet.npy to ./data/baby_cries/embeddings/soundscape_5.json\n",
      "Converted ./data/baby_cries/embeddings/soundscape_3_birdnet.npy to ./data/baby_cries/embeddings/soundscape_3.json\n",
      "Converted ./data/baby_cries/embeddings/soundscape_4_birdnet.npy to ./data/baby_cries/embeddings/soundscape_4.json\n",
      "Converted ./data/baby_cries/embeddings/soundscape_8_birdnet.npy to ./data/baby_cries/embeddings/soundscape_8.json\n",
      "Converted ./data/baby_cries/embeddings/soundscape_1_birdnet.npy to ./data/baby_cries/embeddings/soundscape_1.json\n"
     ]
    }
   ],
   "source": [
    "import os\n",
    "import numpy as np\n",
    "import json\n",
    "\n",
    "def convert_npy_to_json(npy_dir, json_dir):\n",
    "    # Ensure the output directory exists\n",
    "    os.makedirs(json_dir, exist_ok=True)\n",
    "\n",
    "    # Iterate over all .npy files in the input directory\n",
    "    for filename in os.listdir(npy_dir):\n",
    "        if filename.endswith('.npy'):\n",
    "            npy_path = os.path.join(npy_dir, filename)\n",
    "            json_path = os.path.join(json_dir, filename.replace('_birdnet.npy', '.json'))\n",
    "\n",
    "            # Load the .npy file\n",
    "            embeddings = np.load(npy_path)\n",
    "\n",
    "            # Convert the numpy array to a list\n",
    "            embeddings_list = embeddings.tolist()\n",
    "\n",
    "            # Save the list as a .json file\n",
    "            with open(json_path, 'w') as json_file:\n",
    "                json.dump(embeddings_list, json_file)\n",
    "\n",
    "            print(f\"Converted {npy_path} to {json_path}\")\n",
    "\n",
    "npy_dir = './data/baby_cries/embeddings'\n",
    "json_dir = './data/baby_cries/embeddings'\n",
    "convert_npy_to_json(npy_dir, json_dir)"
   ]
  },
  {
   "cell_type": "code",
   "execution_count": 13,
   "metadata": {},
   "outputs": [
    {
     "name": "stdout",
     "output_type": "stream",
     "text": [
      "Saved mel spectrogram for soundscape_6.wav to ./data/baby_cries/spectrograms/soundscape_6.png\n",
      "Saved mel spectrogram for soundscape_4.wav to ./data/baby_cries/spectrograms/soundscape_4.png\n",
      "Saved mel spectrogram for soundscape_7.wav to ./data/baby_cries/spectrograms/soundscape_7.png\n",
      "Saved mel spectrogram for soundscape_8.wav to ./data/baby_cries/spectrograms/soundscape_8.png\n",
      "Saved mel spectrogram for soundscape_1.wav to ./data/baby_cries/spectrograms/soundscape_1.png\n",
      "Saved mel spectrogram for soundscape_5.wav to ./data/baby_cries/spectrograms/soundscape_5.png\n",
      "Saved mel spectrogram for soundscape_3.wav to ./data/baby_cries/spectrograms/soundscape_3.png\n",
      "Saved mel spectrogram for soundscape_2.wav to ./data/baby_cries/spectrograms/soundscape_2.png\n",
      "Saved mel spectrogram for soundscape_9.wav to ./data/baby_cries/spectrograms/soundscape_9.png\n",
      "Saved mel spectrogram for soundscape_0.wav to ./data/baby_cries/spectrograms/soundscape_0.png\n"
     ]
    }
   ],
   "source": [
    "import os\n",
    "import librosa\n",
    "import librosa.display\n",
    "import matplotlib.pyplot as plt\n",
    "import numpy as np\n",
    "\n",
    "def save_melspectrogram(audio_path, output_path, n_fft=2048, hop_length=1024, n_mels=128, figsize=(15, 3)):\n",
    "    y, sr = librosa.load(audio_path, sr=44100)\n",
    "    S = librosa.feature.melspectrogram(y=y, sr=sr, n_fft=n_fft, hop_length=hop_length, n_mels=n_mels)\n",
    "    S_db = librosa.power_to_db(S, ref=np.max)\n",
    "\n",
    "    plt.figure(figsize=figsize)\n",
    "    librosa.display.specshow(S_db, sr=sr, hop_length=hop_length, x_axis='time', y_axis='mel', cmap='gray_r')\n",
    "    plt.axis('off')  # Remove axis\n",
    "    plt.savefig(output_path, bbox_inches='tight', pad_inches=0)\n",
    "    plt.close()\n",
    "\n",
    "def process_audio_files(audio_dir, output_dir):\n",
    "    os.makedirs(output_dir, exist_ok=True)\n",
    "    for filename in os.listdir(audio_dir):\n",
    "        if filename.endswith('.wav'):\n",
    "            audio_path = os.path.join(audio_dir, filename)\n",
    "            output_path = os.path.join(output_dir, filename.replace('.wav', '.png'))\n",
    "            save_melspectrogram(audio_path, output_path)\n",
    "            print(f\"Saved mel spectrogram for {filename} to {output_path}\")\n",
    "\n",
    "if __name__ == \"__main__\":\n",
    "    audio_dir = './data/baby_cries/audio'\n",
    "    output_dir = './data/baby_cries/spectrograms'\n",
    "    process_audio_files(audio_dir, output_dir)"
   ]
  }
 ],
 "metadata": {
  "kernelspec": {
   "display_name": "bioacoustics",
   "language": "python",
   "name": "python3"
  },
  "language_info": {
   "codemirror_mode": {
    "name": "ipython",
    "version": 3
   },
   "file_extension": ".py",
   "mimetype": "text/x-python",
   "name": "python",
   "nbconvert_exporter": "python",
   "pygments_lexer": "ipython3",
   "version": "3.11.11"
  }
 },
 "nbformat": 4,
 "nbformat_minor": 2
}
