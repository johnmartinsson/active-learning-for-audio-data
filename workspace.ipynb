{
 "cells": [
  {
   "cell_type": "code",
   "execution_count": 1,
   "metadata": {},
   "outputs": [],
   "source": [
    "import numpy as np"
   ]
  },
  {
   "cell_type": "code",
   "execution_count": 4,
   "metadata": {},
   "outputs": [
    {
     "data": {
      "text/plain": [
       "(10, 1024)"
      ]
     },
     "execution_count": 4,
     "metadata": {},
     "output_type": "execute_result"
    }
   ],
   "source": [
    "embeddings = np.load('data/baby_cries/embeddings/soundscape_0_birdnet.npy')\n",
    "embeddings.shape"
   ]
  },
  {
   "cell_type": "code",
   "execution_count": 9,
   "metadata": {},
   "outputs": [
    {
     "name": "stdout",
     "output_type": "stream",
     "text": [
      "Converted ./data/baby_cries/embeddings/soundscape_7_birdnet.npy to ./data/baby_cries/embeddings/soundscape_7.json\n",
      "Converted ./data/baby_cries/embeddings/soundscape_2_birdnet.npy to ./data/baby_cries/embeddings/soundscape_2.json\n",
      "Converted ./data/baby_cries/embeddings/soundscape_6_birdnet.npy to ./data/baby_cries/embeddings/soundscape_6.json\n",
      "Converted ./data/baby_cries/embeddings/soundscape_0_birdnet.npy to ./data/baby_cries/embeddings/soundscape_0.json\n",
      "Converted ./data/baby_cries/embeddings/soundscape_9_birdnet.npy to ./data/baby_cries/embeddings/soundscape_9.json\n",
      "Converted ./data/baby_cries/embeddings/soundscape_5_birdnet.npy to ./data/baby_cries/embeddings/soundscape_5.json\n",
      "Converted ./data/baby_cries/embeddings/soundscape_3_birdnet.npy to ./data/baby_cries/embeddings/soundscape_3.json\n",
      "Converted ./data/baby_cries/embeddings/soundscape_4_birdnet.npy to ./data/baby_cries/embeddings/soundscape_4.json\n",
      "Converted ./data/baby_cries/embeddings/soundscape_8_birdnet.npy to ./data/baby_cries/embeddings/soundscape_8.json\n",
      "Converted ./data/baby_cries/embeddings/soundscape_1_birdnet.npy to ./data/baby_cries/embeddings/soundscape_1.json\n"
     ]
    }
   ],
   "source": [
    "import os\n",
    "import numpy as np\n",
    "import json\n",
    "\n",
    "def convert_npy_to_json(npy_dir, json_dir):\n",
    "    # Ensure the output directory exists\n",
    "    os.makedirs(json_dir, exist_ok=True)\n",
    "\n",
    "    # Iterate over all .npy files in the input directory\n",
    "    for filename in os.listdir(npy_dir):\n",
    "        if filename.endswith('.npy'):\n",
    "            npy_path = os.path.join(npy_dir, filename)\n",
    "            json_path = os.path.join(json_dir, filename.replace('_birdnet.npy', '.json'))\n",
    "\n",
    "            # Load the .npy file\n",
    "            embeddings = np.load(npy_path)\n",
    "\n",
    "            # Convert the numpy array to a list\n",
    "            embeddings_list = embeddings.tolist()\n",
    "\n",
    "            # Save the list as a .json file\n",
    "            with open(json_path, 'w') as json_file:\n",
    "                json.dump(embeddings_list, json_file)\n",
    "\n",
    "            print(f\"Converted {npy_path} to {json_path}\")\n",
    "\n",
    "npy_dir = './data/baby_cries/embeddings'\n",
    "json_dir = './data/baby_cries/embeddings'\n",
    "convert_npy_to_json(npy_dir, json_dir)"
   ]
  },
  {
   "cell_type": "code",
   "execution_count": 10,
   "metadata": {},
   "outputs": [
    {
     "ename": "TypeError",
     "evalue": "melspectrogram() takes 0 positional arguments but 1 positional argument (and 3 keyword-only arguments) were given",
     "output_type": "error",
     "traceback": [
      "\u001b[0;31m---------------------------------------------------------------------------\u001b[0m",
      "\u001b[0;31mTypeError\u001b[0m                                 Traceback (most recent call last)",
      "Cell \u001b[0;32mIn[10], line 44\u001b[0m\n\u001b[1;32m     42\u001b[0m audio_dir \u001b[38;5;241m=\u001b[39m \u001b[38;5;124m'\u001b[39m\u001b[38;5;124m./data/baby_cries/audio\u001b[39m\u001b[38;5;124m'\u001b[39m\n\u001b[1;32m     43\u001b[0m output_dir \u001b[38;5;241m=\u001b[39m \u001b[38;5;124m'\u001b[39m\u001b[38;5;124m./data/baby_cries/spectrograms\u001b[39m\u001b[38;5;124m'\u001b[39m\n\u001b[0;32m---> 44\u001b[0m \u001b[43mprocess_audio_files\u001b[49m\u001b[43m(\u001b[49m\u001b[43maudio_dir\u001b[49m\u001b[43m,\u001b[49m\u001b[43m \u001b[49m\u001b[43moutput_dir\u001b[49m\u001b[43m)\u001b[49m\n",
      "Cell \u001b[0;32mIn[10], line 38\u001b[0m, in \u001b[0;36mprocess_audio_files\u001b[0;34m(audio_dir, output_dir)\u001b[0m\n\u001b[1;32m     35\u001b[0m output_path \u001b[38;5;241m=\u001b[39m os\u001b[38;5;241m.\u001b[39mpath\u001b[38;5;241m.\u001b[39mjoin(output_dir, filename\u001b[38;5;241m.\u001b[39mreplace(\u001b[38;5;124m'\u001b[39m\u001b[38;5;124m.wav\u001b[39m\u001b[38;5;124m'\u001b[39m, \u001b[38;5;124m'\u001b[39m\u001b[38;5;124m.png\u001b[39m\u001b[38;5;124m'\u001b[39m))\n\u001b[1;32m     36\u001b[0m \u001b[38;5;66;03m# save_spectrogram(audio_path, output_path)\u001b[39;00m\n\u001b[1;32m     37\u001b[0m \u001b[38;5;66;03m# print(f\"Saved spectrogram for {filename} to {output_path}\")\u001b[39;00m\n\u001b[0;32m---> 38\u001b[0m \u001b[43msave_melspectrogram\u001b[49m\u001b[43m(\u001b[49m\u001b[43maudio_path\u001b[49m\u001b[43m,\u001b[49m\u001b[43m \u001b[49m\u001b[43moutput_path\u001b[49m\u001b[43m)\u001b[49m\n\u001b[1;32m     39\u001b[0m \u001b[38;5;28mprint\u001b[39m(\u001b[38;5;124mf\u001b[39m\u001b[38;5;124m\"\u001b[39m\u001b[38;5;124mSaved mel spectrogram for \u001b[39m\u001b[38;5;132;01m{\u001b[39;00mfilename\u001b[38;5;132;01m}\u001b[39;00m\u001b[38;5;124m to \u001b[39m\u001b[38;5;132;01m{\u001b[39;00moutput_path\u001b[38;5;132;01m}\u001b[39;00m\u001b[38;5;124m\"\u001b[39m)\n",
      "Cell \u001b[0;32mIn[10], line 20\u001b[0m, in \u001b[0;36msave_melspectrogram\u001b[0;34m(audio_path, output_path, n_fft, hop_length, n_mels, figsize)\u001b[0m\n\u001b[1;32m     18\u001b[0m \u001b[38;5;28;01mdef\u001b[39;00m\u001b[38;5;250m \u001b[39m\u001b[38;5;21msave_melspectrogram\u001b[39m(audio_path, output_path, n_fft\u001b[38;5;241m=\u001b[39m\u001b[38;5;241m2048\u001b[39m, hop_length\u001b[38;5;241m=\u001b[39m\u001b[38;5;241m1024\u001b[39m, n_mels\u001b[38;5;241m=\u001b[39m\u001b[38;5;241m128\u001b[39m, figsize\u001b[38;5;241m=\u001b[39m(\u001b[38;5;241m15\u001b[39m, \u001b[38;5;241m4\u001b[39m)):\n\u001b[1;32m     19\u001b[0m     y, sr \u001b[38;5;241m=\u001b[39m librosa\u001b[38;5;241m.\u001b[39mload(audio_path, sr\u001b[38;5;241m=\u001b[39m\u001b[38;5;241m44100\u001b[39m)\n\u001b[0;32m---> 20\u001b[0m     S \u001b[38;5;241m=\u001b[39m \u001b[43mlibrosa\u001b[49m\u001b[38;5;241;43m.\u001b[39;49m\u001b[43mfeature\u001b[49m\u001b[38;5;241;43m.\u001b[39;49m\u001b[43mmelspectrogram\u001b[49m\u001b[43m(\u001b[49m\u001b[43my\u001b[49m\u001b[43m,\u001b[49m\u001b[43m \u001b[49m\u001b[43msr\u001b[49m\u001b[38;5;241;43m=\u001b[39;49m\u001b[43msr\u001b[49m\u001b[43m,\u001b[49m\u001b[43m \u001b[49m\u001b[43mn_fft\u001b[49m\u001b[38;5;241;43m=\u001b[39;49m\u001b[43mn_fft\u001b[49m\u001b[43m,\u001b[49m\u001b[43m \u001b[49m\u001b[43mhop_length\u001b[49m\u001b[38;5;241;43m=\u001b[39;49m\u001b[43mhop_length\u001b[49m\u001b[43m,\u001b[49m\u001b[43m \u001b[49m\u001b[43mn_mels\u001b[49m\u001b[38;5;241;43m=\u001b[39;49m\u001b[43mn_mels\u001b[49m\u001b[43m)\u001b[49m\n\u001b[1;32m     21\u001b[0m     S_db \u001b[38;5;241m=\u001b[39m librosa\u001b[38;5;241m.\u001b[39mpower_to_db(S, ref\u001b[38;5;241m=\u001b[39mnp\u001b[38;5;241m.\u001b[39mmax)\n\u001b[1;32m     23\u001b[0m     plt\u001b[38;5;241m.\u001b[39mfigure(figsize\u001b[38;5;241m=\u001b[39mfigsize)\n",
      "\u001b[0;31mTypeError\u001b[0m: melspectrogram() takes 0 positional arguments but 1 positional argument (and 3 keyword-only arguments) were given"
     ]
    }
   ],
   "source": [
    "import os\n",
    "import librosa\n",
    "import librosa.display\n",
    "import matplotlib.pyplot as plt\n",
    "import numpy as np\n",
    "\n",
    "def save_melspectrogram(audio_path, output_path, n_fft=2048, hop_length=1024, n_mels=128, figsize=(15, 6)):\n",
    "    y, sr = librosa.load(audio_path, sr=44100)\n",
    "    S = librosa.feature.melspectrogram(y=y, sr=sr, n_fft=n_fft, hop_length=hop_length, n_mels=n_mels)\n",
    "    S_db = librosa.power_to_db(S, ref=np.max)\n",
    "\n",
    "    plt.figure(figsize=figsize)\n",
    "    librosa.display.specshow(S_db, sr=sr, hop_length=hop_length, x_axis='time', y_axis='mel', cmap='gray_r')\n",
    "    plt.axis('off')  # Remove axis\n",
    "    plt.savefig(output_path, bbox_inches='tight', pad_inches=0)\n",
    "    plt.close()\n",
    "\n",
    "def process_audio_files(audio_dir, output_dir):\n",
    "    os.makedirs(output_dir, exist_ok=True)\n",
    "    for filename in os.listdir(audio_dir):\n",
    "        if filename.endswith('.wav'):\n",
    "            audio_path = os.path.join(audio_dir, filename)\n",
    "            output_path = os.path.join(output_dir, filename.replace('.wav', '.png'))\n",
    "            save_melspectrogram(audio_path, output_path)\n",
    "            print(f\"Saved mel spectrogram for {filename} to {output_path}\")\n",
    "\n",
    "if __name__ == \"__main__\":\n",
    "    audio_dir = './data/baby_cries/audio'\n",
    "    output_dir = './data/baby_cries/spectrograms'\n",
    "    process_audio_files(audio_dir, output_dir)"
   ]
  },
  {
   "cell_type": "code",
   "execution_count": null,
   "metadata": {},
   "outputs": [],
   "source": []
  }
 ],
 "metadata": {
  "kernelspec": {
   "display_name": "weak-labeling",
   "language": "python",
   "name": "python3"
  },
  "language_info": {
   "codemirror_mode": {
    "name": "ipython",
    "version": 3
   },
   "file_extension": ".py",
   "mimetype": "text/x-python",
   "name": "python",
   "nbconvert_exporter": "python",
   "pygments_lexer": "ipython3",
   "version": "3.12.3"
  }
 },
 "nbformat": 4,
 "nbformat_minor": 2
}
