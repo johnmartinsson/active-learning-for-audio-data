{
 "cells": [
  {
   "cell_type": "code",
   "execution_count": 1,
   "metadata": {},
   "outputs": [],
   "source": [
    "import numpy as np"
   ]
  },
  {
   "cell_type": "code",
   "execution_count": 4,
   "metadata": {},
   "outputs": [
    {
     "data": {
      "text/plain": [
       "(10, 1024)"
      ]
     },
     "execution_count": 4,
     "metadata": {},
     "output_type": "execute_result"
    }
   ],
   "source": [
    "embeddings = np.load('data/baby_cries/embeddings/soundscape_0_birdnet.npy')\n",
    "embeddings.shape"
   ]
  },
  {
   "cell_type": "code",
   "execution_count": 9,
   "metadata": {},
   "outputs": [
    {
     "name": "stdout",
     "output_type": "stream",
     "text": [
      "Converted ./data/baby_cries/embeddings/soundscape_7_birdnet.npy to ./data/baby_cries/embeddings/soundscape_7.json\n",
      "Converted ./data/baby_cries/embeddings/soundscape_2_birdnet.npy to ./data/baby_cries/embeddings/soundscape_2.json\n",
      "Converted ./data/baby_cries/embeddings/soundscape_6_birdnet.npy to ./data/baby_cries/embeddings/soundscape_6.json\n",
      "Converted ./data/baby_cries/embeddings/soundscape_0_birdnet.npy to ./data/baby_cries/embeddings/soundscape_0.json\n",
      "Converted ./data/baby_cries/embeddings/soundscape_9_birdnet.npy to ./data/baby_cries/embeddings/soundscape_9.json\n",
      "Converted ./data/baby_cries/embeddings/soundscape_5_birdnet.npy to ./data/baby_cries/embeddings/soundscape_5.json\n",
      "Converted ./data/baby_cries/embeddings/soundscape_3_birdnet.npy to ./data/baby_cries/embeddings/soundscape_3.json\n",
      "Converted ./data/baby_cries/embeddings/soundscape_4_birdnet.npy to ./data/baby_cries/embeddings/soundscape_4.json\n",
      "Converted ./data/baby_cries/embeddings/soundscape_8_birdnet.npy to ./data/baby_cries/embeddings/soundscape_8.json\n",
      "Converted ./data/baby_cries/embeddings/soundscape_1_birdnet.npy to ./data/baby_cries/embeddings/soundscape_1.json\n"
     ]
    }
   ],
   "source": [
    "import os\n",
    "import numpy as np\n",
    "import json\n",
    "\n",
    "def convert_npy_to_json(npy_dir, json_dir):\n",
    "    # Ensure the output directory exists\n",
    "    os.makedirs(json_dir, exist_ok=True)\n",
    "\n",
    "    # Iterate over all .npy files in the input directory\n",
    "    for filename in os.listdir(npy_dir):\n",
    "        if filename.endswith('.npy'):\n",
    "            npy_path = os.path.join(npy_dir, filename)\n",
    "            json_path = os.path.join(json_dir, filename.replace('_birdnet.npy', '.json'))\n",
    "\n",
    "            # Load the .npy file\n",
    "            embeddings = np.load(npy_path)\n",
    "\n",
    "            # Convert the numpy array to a list\n",
    "            embeddings_list = embeddings.tolist()\n",
    "\n",
    "            # Save the list as a .json file\n",
    "            with open(json_path, 'w') as json_file:\n",
    "                json.dump(embeddings_list, json_file)\n",
    "\n",
    "            print(f\"Converted {npy_path} to {json_path}\")\n",
    "\n",
    "npy_dir = './data/baby_cries/embeddings'\n",
    "json_dir = './data/baby_cries/embeddings'\n",
    "convert_npy_to_json(npy_dir, json_dir)"
   ]
  },
  {
   "cell_type": "code",
   "execution_count": 13,
   "metadata": {},
   "outputs": [
    {
     "name": "stdout",
     "output_type": "stream",
     "text": [
      "Saved mel spectrogram for soundscape_6.wav to ./data/baby_cries/spectrograms/soundscape_6.png\n",
      "Saved mel spectrogram for soundscape_4.wav to ./data/baby_cries/spectrograms/soundscape_4.png\n",
      "Saved mel spectrogram for soundscape_7.wav to ./data/baby_cries/spectrograms/soundscape_7.png\n",
      "Saved mel spectrogram for soundscape_8.wav to ./data/baby_cries/spectrograms/soundscape_8.png\n",
      "Saved mel spectrogram for soundscape_1.wav to ./data/baby_cries/spectrograms/soundscape_1.png\n",
      "Saved mel spectrogram for soundscape_5.wav to ./data/baby_cries/spectrograms/soundscape_5.png\n",
      "Saved mel spectrogram for soundscape_3.wav to ./data/baby_cries/spectrograms/soundscape_3.png\n",
      "Saved mel spectrogram for soundscape_2.wav to ./data/baby_cries/spectrograms/soundscape_2.png\n",
      "Saved mel spectrogram for soundscape_9.wav to ./data/baby_cries/spectrograms/soundscape_9.png\n",
      "Saved mel spectrogram for soundscape_0.wav to ./data/baby_cries/spectrograms/soundscape_0.png\n"
     ]
    }
   ],
   "source": [
    "import os\n",
    "import librosa\n",
    "import librosa.display\n",
    "import matplotlib.pyplot as plt\n",
    "import numpy as np\n",
    "\n",
    "def save_melspectrogram(audio_path, output_path, n_fft=2048, hop_length=1024, n_mels=128, figsize=(15, 3)):\n",
    "    y, sr = librosa.load(audio_path, sr=44100)\n",
    "    S = librosa.feature.melspectrogram(y=y, sr=sr, n_fft=n_fft, hop_length=hop_length, n_mels=n_mels)\n",
    "    S_db = librosa.power_to_db(S, ref=np.max)\n",
    "\n",
    "    plt.figure(figsize=figsize)\n",
    "    librosa.display.specshow(S_db, sr=sr, hop_length=hop_length, x_axis='time', y_axis='mel', cmap='gray_r')\n",
    "    plt.axis('off')  # Remove axis\n",
    "    plt.savefig(output_path, bbox_inches='tight', pad_inches=0)\n",
    "    plt.close()\n",
    "\n",
    "def process_audio_files(audio_dir, output_dir):\n",
    "    os.makedirs(output_dir, exist_ok=True)\n",
    "    for filename in os.listdir(audio_dir):\n",
    "        if filename.endswith('.wav'):\n",
    "            audio_path = os.path.join(audio_dir, filename)\n",
    "            output_path = os.path.join(output_dir, filename.replace('.wav', '.png'))\n",
    "            save_melspectrogram(audio_path, output_path)\n",
    "            print(f\"Saved mel spectrogram for {filename} to {output_path}\")\n",
    "\n",
    "if __name__ == \"__main__\":\n",
    "    audio_dir = './data/baby_cries/audio'\n",
    "    output_dir = './data/baby_cries/spectrograms'\n",
    "    process_audio_files(audio_dir, output_dir)"
   ]
  },
  {
   "cell_type": "code",
   "execution_count": null,
   "metadata": {},
   "outputs": [],
   "source": []
  }
 ],
 "metadata": {
  "kernelspec": {
   "display_name": "weak-labeling",
   "language": "python",
   "name": "python3"
  },
  "language_info": {
   "codemirror_mode": {
    "name": "ipython",
    "version": 3
   },
   "file_extension": ".py",
   "mimetype": "text/x-python",
   "name": "python",
   "nbconvert_exporter": "python",
   "pygments_lexer": "ipython3",
   "version": "3.12.3"
  }
 },
 "nbformat": 4,
 "nbformat_minor": 2
}
